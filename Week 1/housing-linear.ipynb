{
  "nbformat": 4,
  "nbformat_minor": 0,
  "metadata": {
    "colab": {
      "name": "housing-minimal",
      "provenance": []
    },
    "kernelspec": {
      "name": "python3",
      "display_name": "Python 3"
    }
  },
  "cells": [
    {
      "cell_type": "code",
      "metadata": {
        "id": "otuaISmlTPvY",
        "colab_type": "code",
        "colab": {}
      },
      "source": [
        "import torch\n",
        "import torchvision\n",
        "from torch import nn\n",
        "import pandas as pd\n",
        "import matplotlib.pyplot as plt\n",
        "import torch.nn.functional as F\n",
        "from torchvision.datasets.utils import download_url\n",
        "from torch.utils.data import TensorDataset, DataLoader, random_split"
      ],
      "execution_count": 0,
      "outputs": []
    },
    {
      "cell_type": "code",
      "metadata": {
        "id": "NaPLqj5LUF19",
        "colab_type": "code",
        "colab": {}
      },
      "source": [
        "batch_size=64\n",
        "learning_rate=5e-7\n",
        "\n",
        "DATASET_URL = \"https://raw.githubusercontent.com/selva86/datasets/master/BostonHousing.csv\"\n",
        "DATA_FILENAME = \"BostonHousing.csv\"\n",
        "TARGET_COLUMN = 'medv'\n",
        "input_size=13\n",
        "output_size=1"
      ],
      "execution_count": 0,
      "outputs": []
    },
    {
      "cell_type": "markdown",
      "metadata": {
        "id": "cUPeU7hHUjMW",
        "colab_type": "text"
      },
      "source": [
        "Dataset & Data loaders"
      ]
    },
    {
      "cell_type": "code",
      "metadata": {
        "id": "zQ8EHbFuUeuG",
        "colab_type": "code",
        "colab": {
          "base_uri": "https://localhost:8080/",
          "height": 213
        },
        "outputId": "22334539-93fc-4996-b33a-d6fe3b38cc23"
      },
      "source": [
        "download_url(DATASET_URL, '.')\n",
        "data = pd.read_csv(DATA_FILENAME)\n",
        "data.head()"
      ],
      "execution_count": 3,
      "outputs": [
        {
          "output_type": "stream",
          "text": [
            "Using downloaded and verified file: ./BostonHousing.csv\n"
          ],
          "name": "stdout"
        },
        {
          "output_type": "execute_result",
          "data": {
            "text/html": [
              "<div>\n",
              "<style scoped>\n",
              "    .dataframe tbody tr th:only-of-type {\n",
              "        vertical-align: middle;\n",
              "    }\n",
              "\n",
              "    .dataframe tbody tr th {\n",
              "        vertical-align: top;\n",
              "    }\n",
              "\n",
              "    .dataframe thead th {\n",
              "        text-align: right;\n",
              "    }\n",
              "</style>\n",
              "<table border=\"1\" class=\"dataframe\">\n",
              "  <thead>\n",
              "    <tr style=\"text-align: right;\">\n",
              "      <th></th>\n",
              "      <th>crim</th>\n",
              "      <th>zn</th>\n",
              "      <th>indus</th>\n",
              "      <th>chas</th>\n",
              "      <th>nox</th>\n",
              "      <th>rm</th>\n",
              "      <th>age</th>\n",
              "      <th>dis</th>\n",
              "      <th>rad</th>\n",
              "      <th>tax</th>\n",
              "      <th>ptratio</th>\n",
              "      <th>b</th>\n",
              "      <th>lstat</th>\n",
              "      <th>medv</th>\n",
              "    </tr>\n",
              "  </thead>\n",
              "  <tbody>\n",
              "    <tr>\n",
              "      <th>0</th>\n",
              "      <td>0.00632</td>\n",
              "      <td>18.0</td>\n",
              "      <td>2.31</td>\n",
              "      <td>0</td>\n",
              "      <td>0.538</td>\n",
              "      <td>6.575</td>\n",
              "      <td>65.2</td>\n",
              "      <td>4.0900</td>\n",
              "      <td>1</td>\n",
              "      <td>296</td>\n",
              "      <td>15.3</td>\n",
              "      <td>396.90</td>\n",
              "      <td>4.98</td>\n",
              "      <td>24.0</td>\n",
              "    </tr>\n",
              "    <tr>\n",
              "      <th>1</th>\n",
              "      <td>0.02731</td>\n",
              "      <td>0.0</td>\n",
              "      <td>7.07</td>\n",
              "      <td>0</td>\n",
              "      <td>0.469</td>\n",
              "      <td>6.421</td>\n",
              "      <td>78.9</td>\n",
              "      <td>4.9671</td>\n",
              "      <td>2</td>\n",
              "      <td>242</td>\n",
              "      <td>17.8</td>\n",
              "      <td>396.90</td>\n",
              "      <td>9.14</td>\n",
              "      <td>21.6</td>\n",
              "    </tr>\n",
              "    <tr>\n",
              "      <th>2</th>\n",
              "      <td>0.02729</td>\n",
              "      <td>0.0</td>\n",
              "      <td>7.07</td>\n",
              "      <td>0</td>\n",
              "      <td>0.469</td>\n",
              "      <td>7.185</td>\n",
              "      <td>61.1</td>\n",
              "      <td>4.9671</td>\n",
              "      <td>2</td>\n",
              "      <td>242</td>\n",
              "      <td>17.8</td>\n",
              "      <td>392.83</td>\n",
              "      <td>4.03</td>\n",
              "      <td>34.7</td>\n",
              "    </tr>\n",
              "    <tr>\n",
              "      <th>3</th>\n",
              "      <td>0.03237</td>\n",
              "      <td>0.0</td>\n",
              "      <td>2.18</td>\n",
              "      <td>0</td>\n",
              "      <td>0.458</td>\n",
              "      <td>6.998</td>\n",
              "      <td>45.8</td>\n",
              "      <td>6.0622</td>\n",
              "      <td>3</td>\n",
              "      <td>222</td>\n",
              "      <td>18.7</td>\n",
              "      <td>394.63</td>\n",
              "      <td>2.94</td>\n",
              "      <td>33.4</td>\n",
              "    </tr>\n",
              "    <tr>\n",
              "      <th>4</th>\n",
              "      <td>0.06905</td>\n",
              "      <td>0.0</td>\n",
              "      <td>2.18</td>\n",
              "      <td>0</td>\n",
              "      <td>0.458</td>\n",
              "      <td>7.147</td>\n",
              "      <td>54.2</td>\n",
              "      <td>6.0622</td>\n",
              "      <td>3</td>\n",
              "      <td>222</td>\n",
              "      <td>18.7</td>\n",
              "      <td>396.90</td>\n",
              "      <td>5.33</td>\n",
              "      <td>36.2</td>\n",
              "    </tr>\n",
              "  </tbody>\n",
              "</table>\n",
              "</div>"
            ],
            "text/plain": [
              "      crim    zn  indus  chas    nox  ...  tax  ptratio       b  lstat  medv\n",
              "0  0.00632  18.0   2.31     0  0.538  ...  296     15.3  396.90   4.98  24.0\n",
              "1  0.02731   0.0   7.07     0  0.469  ...  242     17.8  396.90   9.14  21.6\n",
              "2  0.02729   0.0   7.07     0  0.469  ...  242     17.8  392.83   4.03  34.7\n",
              "3  0.03237   0.0   2.18     0  0.458  ...  222     18.7  394.63   2.94  33.4\n",
              "4  0.06905   0.0   2.18     0  0.458  ...  222     18.7  396.90   5.33  36.2\n",
              "\n",
              "[5 rows x 14 columns]"
            ]
          },
          "metadata": {
            "tags": []
          },
          "execution_count": 3
        }
      ]
    },
    {
      "cell_type": "code",
      "metadata": {
        "id": "F_CTK9pDUwj_",
        "colab_type": "code",
        "colab": {
          "base_uri": "https://localhost:8080/",
          "height": 33
        },
        "outputId": "181847a5-59ec-448b-9f79-fc35d012431b"
      },
      "source": [
        "inputs = data.drop('medv', axis=1).values\n",
        "targets = data[['medv']].values\n",
        "inputs.shape, targets.shape"
      ],
      "execution_count": 4,
      "outputs": [
        {
          "output_type": "execute_result",
          "data": {
            "text/plain": [
              "((506, 13), (506, 1))"
            ]
          },
          "metadata": {
            "tags": []
          },
          "execution_count": 4
        }
      ]
    },
    {
      "cell_type": "code",
      "metadata": {
        "id": "2g2innkLVHcW",
        "colab_type": "code",
        "colab": {}
      },
      "source": [
        "# Convert to PyTorch dataset\n",
        "dataset = TensorDataset(torch.tensor(inputs, dtype=torch.float32), \n",
        "                        torch.tensor(targets, dtype=torch.float32))\n",
        "train_ds, val_ds = random_split(dataset, [406, 100])\n",
        "\n",
        "train_loader = DataLoader(train_ds, batch_size, shuffle=True)\n",
        "val_loader = DataLoader(val_ds, batch_size*2)"
      ],
      "execution_count": 0,
      "outputs": []
    },
    {
      "cell_type": "markdown",
      "metadata": {
        "id": "5TNr3KHRV2nn",
        "colab_type": "text"
      },
      "source": [
        "Model"
      ]
    },
    {
      "cell_type": "code",
      "metadata": {
        "id": "tC_v2QlIVsIK",
        "colab_type": "code",
        "colab": {}
      },
      "source": [
        "class HousingModel(nn.Module):\n",
        "    def __init__(self):\n",
        "        super().__init__()\n",
        "        self.linear = nn.Linear(input_size, output_size)\n",
        "        \n",
        "    def forward(self, xb):\n",
        "        out = self.linear(xb)\n",
        "        return out\n",
        "    \n",
        "    def training_step(self, batch):\n",
        "        inputs, targets = batch \n",
        "        out = self(inputs)                 # Generate predictions\n",
        "        loss = F.mse_loss(out, targets)    # Calculate loss\n",
        "        return loss\n",
        "    \n",
        "    def validation_step(self, batch):\n",
        "        inputs, targets = batch \n",
        "        out = self(inputs)                 # Generate predictions\n",
        "        loss = F.mse_loss(out, targets)    # Calculate loss\n",
        "        return {'val_loss': loss.detach()}\n",
        "        \n",
        "    def validation_epoch_end(self, outputs):\n",
        "        batch_losses = [x['val_loss'] for x in outputs]\n",
        "        epoch_loss = torch.stack(batch_losses).mean()   # Combine losses\n",
        "        return {'val_loss': epoch_loss.item()}\n",
        "    \n",
        "    def epoch_end(self, epoch, result):\n",
        "        print(f\"Epoch [{epoch + 1}] -> val_loss: {result['val_loss']:.4f}\")\n",
        "    \n",
        "model = HousingModel()"
      ],
      "execution_count": 0,
      "outputs": []
    },
    {
      "cell_type": "markdown",
      "metadata": {
        "id": "n0FelBacW2hh",
        "colab_type": "text"
      },
      "source": [
        "Training"
      ]
    },
    {
      "cell_type": "code",
      "metadata": {
        "id": "HzBFmTEyWzqY",
        "colab_type": "code",
        "colab": {}
      },
      "source": [
        "def evaluate(model, val_loader):\n",
        "    outputs = [model.validation_step(batch) for batch in val_loader]\n",
        "    return model.validation_epoch_end(outputs)\n",
        "\n",
        "def fit(epochs, lr, model, train_loader, val_loader, opt_func=torch.optim.SGD):\n",
        "    history = []\n",
        "    optimizer = opt_func(model.parameters(), lr)\n",
        "    \n",
        "    for epoch in range(epochs):\n",
        "        # Training Phase \n",
        "        for batch in train_loader:\n",
        "            loss = model.training_step(batch)\n",
        "            loss.backward()\n",
        "            optimizer.step()\n",
        "            optimizer.zero_grad()\n",
        "        # Validation phase\n",
        "        result = evaluate(model, val_loader)\n",
        "        model.epoch_end(epoch, result)\n",
        "        history.append(result)\n",
        "    return history"
      ],
      "execution_count": 0,
      "outputs": []
    },
    {
      "cell_type": "code",
      "metadata": {
        "id": "8GMw8DGfX-RS",
        "colab_type": "code",
        "colab": {
          "base_uri": "https://localhost:8080/",
          "height": 33
        },
        "outputId": "fae8860c-83a7-48ef-8143-8ade85603650"
      },
      "source": [
        "result = evaluate(model, val_loader)\n",
        "result"
      ],
      "execution_count": 8,
      "outputs": [
        {
          "output_type": "execute_result",
          "data": {
            "text/plain": [
              "{'val_loss': 6192.29296875}"
            ]
          },
          "metadata": {
            "tags": []
          },
          "execution_count": 8
        }
      ]
    },
    {
      "cell_type": "code",
      "metadata": {
        "id": "AJ7NRh4sX-oB",
        "colab_type": "code",
        "colab": {
          "base_uri": "https://localhost:8080/",
          "height": 1000
        },
        "outputId": "bd6568ab-d426-404d-e968-9b83b7ce79d3"
      },
      "source": [
        "history = fit(100, learning_rate, model, train_loader, val_loader)"
      ],
      "execution_count": 9,
      "outputs": [
        {
          "output_type": "stream",
          "text": [
            "Epoch [1] -> val_loss: 1833.5920\n",
            "Epoch [2] -> val_loss: 1342.7697\n",
            "Epoch [3] -> val_loss: 1005.7144\n",
            "Epoch [4] -> val_loss: 754.0838\n",
            "Epoch [5] -> val_loss: 598.9290\n",
            "Epoch [6] -> val_loss: 459.4538\n",
            "Epoch [7] -> val_loss: 379.9926\n",
            "Epoch [8] -> val_loss: 306.9252\n",
            "Epoch [9] -> val_loss: 257.2711\n",
            "Epoch [10] -> val_loss: 223.8154\n",
            "Epoch [11] -> val_loss: 201.1247\n",
            "Epoch [12] -> val_loss: 182.0794\n",
            "Epoch [13] -> val_loss: 169.3010\n",
            "Epoch [14] -> val_loss: 159.2343\n",
            "Epoch [15] -> val_loss: 152.5123\n",
            "Epoch [16] -> val_loss: 147.5727\n",
            "Epoch [17] -> val_loss: 143.6984\n",
            "Epoch [18] -> val_loss: 139.6168\n",
            "Epoch [19] -> val_loss: 137.4597\n",
            "Epoch [20] -> val_loss: 135.6438\n",
            "Epoch [21] -> val_loss: 134.1633\n",
            "Epoch [22] -> val_loss: 133.2424\n",
            "Epoch [23] -> val_loss: 131.6424\n",
            "Epoch [24] -> val_loss: 132.2301\n",
            "Epoch [25] -> val_loss: 130.1481\n",
            "Epoch [26] -> val_loss: 128.8749\n",
            "Epoch [27] -> val_loss: 130.5497\n",
            "Epoch [28] -> val_loss: 128.1843\n",
            "Epoch [29] -> val_loss: 127.0099\n",
            "Epoch [30] -> val_loss: 126.9768\n",
            "Epoch [31] -> val_loss: 125.9509\n",
            "Epoch [32] -> val_loss: 125.4774\n",
            "Epoch [33] -> val_loss: 124.8870\n",
            "Epoch [34] -> val_loss: 124.3503\n",
            "Epoch [35] -> val_loss: 123.8643\n",
            "Epoch [36] -> val_loss: 123.8981\n",
            "Epoch [37] -> val_loss: 122.9970\n",
            "Epoch [38] -> val_loss: 124.1689\n",
            "Epoch [39] -> val_loss: 123.8634\n",
            "Epoch [40] -> val_loss: 122.0666\n",
            "Epoch [41] -> val_loss: 121.2542\n",
            "Epoch [42] -> val_loss: 121.3913\n",
            "Epoch [43] -> val_loss: 121.3605\n",
            "Epoch [44] -> val_loss: 120.1365\n",
            "Epoch [45] -> val_loss: 119.9007\n",
            "Epoch [46] -> val_loss: 119.1489\n",
            "Epoch [47] -> val_loss: 121.2869\n",
            "Epoch [48] -> val_loss: 118.4223\n",
            "Epoch [49] -> val_loss: 117.9840\n",
            "Epoch [50] -> val_loss: 118.8020\n",
            "Epoch [51] -> val_loss: 117.3331\n",
            "Epoch [52] -> val_loss: 116.9960\n",
            "Epoch [53] -> val_loss: 117.0807\n",
            "Epoch [54] -> val_loss: 116.7363\n",
            "Epoch [55] -> val_loss: 116.2961\n",
            "Epoch [56] -> val_loss: 115.8100\n",
            "Epoch [57] -> val_loss: 115.9137\n",
            "Epoch [58] -> val_loss: 115.2379\n",
            "Epoch [59] -> val_loss: 115.3922\n",
            "Epoch [60] -> val_loss: 114.5426\n",
            "Epoch [61] -> val_loss: 114.7472\n",
            "Epoch [62] -> val_loss: 114.5384\n",
            "Epoch [63] -> val_loss: 113.5555\n",
            "Epoch [64] -> val_loss: 113.5332\n",
            "Epoch [65] -> val_loss: 112.8064\n",
            "Epoch [66] -> val_loss: 112.4909\n",
            "Epoch [67] -> val_loss: 112.6219\n",
            "Epoch [68] -> val_loss: 111.8557\n",
            "Epoch [69] -> val_loss: 111.9922\n",
            "Epoch [70] -> val_loss: 111.5490\n",
            "Epoch [71] -> val_loss: 112.2779\n",
            "Epoch [72] -> val_loss: 111.0666\n",
            "Epoch [73] -> val_loss: 110.5192\n",
            "Epoch [74] -> val_loss: 110.2726\n",
            "Epoch [75] -> val_loss: 111.2094\n",
            "Epoch [76] -> val_loss: 110.0573\n",
            "Epoch [77] -> val_loss: 109.9006\n",
            "Epoch [78] -> val_loss: 109.4275\n",
            "Epoch [79] -> val_loss: 109.1190\n",
            "Epoch [80] -> val_loss: 109.9247\n",
            "Epoch [81] -> val_loss: 108.7342\n",
            "Epoch [82] -> val_loss: 109.5037\n",
            "Epoch [83] -> val_loss: 107.9825\n",
            "Epoch [84] -> val_loss: 107.6280\n",
            "Epoch [85] -> val_loss: 107.4646\n",
            "Epoch [86] -> val_loss: 107.1081\n",
            "Epoch [87] -> val_loss: 106.8496\n",
            "Epoch [88] -> val_loss: 106.5739\n",
            "Epoch [89] -> val_loss: 106.9395\n",
            "Epoch [90] -> val_loss: 106.8426\n",
            "Epoch [91] -> val_loss: 106.1757\n",
            "Epoch [92] -> val_loss: 107.0452\n",
            "Epoch [93] -> val_loss: 105.9191\n",
            "Epoch [94] -> val_loss: 107.1804\n",
            "Epoch [95] -> val_loss: 105.0283\n",
            "Epoch [96] -> val_loss: 104.8565\n",
            "Epoch [97] -> val_loss: 105.0344\n",
            "Epoch [98] -> val_loss: 104.8067\n",
            "Epoch [99] -> val_loss: 104.2052\n",
            "Epoch [100] -> val_loss: 104.4203\n"
          ],
          "name": "stdout"
        }
      ]
    },
    {
      "cell_type": "code",
      "metadata": {
        "id": "mty69IxjZvmt",
        "colab_type": "code",
        "colab": {
          "base_uri": "https://localhost:8080/",
          "height": 312
        },
        "outputId": "67be08f0-d3d2-4ac6-b568-5a3e4f5159af"
      },
      "source": [
        "losses = [r['val_loss'] for r in [result] + history]\n",
        "plt.plot(losses, '-x')\n",
        "plt.xlabel('epoch')\n",
        "plt.ylabel('val_loss')\n",
        "plt.title('val_loss vs. epochs')"
      ],
      "execution_count": 10,
      "outputs": [
        {
          "output_type": "execute_result",
          "data": {
            "text/plain": [
              "Text(0.5, 1.0, 'val_loss vs. epochs')"
            ]
          },
          "metadata": {
            "tags": []
          },
          "execution_count": 10
        },
        {
          "output_type": "display_data",
          "data": {
            "image/png": "[encoded data removed]",
            "text/plain": [
              "<Figure size 432x288 with 1 Axes>"
            ]
          },
          "metadata": {
            "tags": [],
            "needs_background": "light"
          }
        }
      ]
    },
    {
      "cell_type": "markdown",
      "metadata": {
        "id": "ZxspQiOLa1xu",
        "colab_type": "text"
      },
      "source": [
        "Prediction"
      ]
    },
    {
      "cell_type": "code",
      "metadata": {
        "id": "qORs7Aftazwm",
        "colab_type": "code",
        "colab": {}
      },
      "source": [
        "def predict_single(x, model):\n",
        "    xb = x.unsqueeze(0)\n",
        "    return model(xb).item()"
      ],
      "execution_count": 0,
      "outputs": []
    },
    {
      "cell_type": "code",
      "metadata": {
        "id": "HCn6Rd0xbFhD",
        "colab_type": "code",
        "colab": {
          "base_uri": "https://localhost:8080/",
          "height": 100
        },
        "outputId": "d0e58f31-ab47-4341-d058-a03c430e1a77"
      },
      "source": [
        "x, target = val_ds[12]\n",
        "pred = predict_single(x, model)\n",
        "print(\"Input: \", x)\n",
        "print(\"Target: \", target.item())\n",
        "print(\"Prediction:\", pred)"
      ],
      "execution_count": 12,
      "outputs": [
        {
          "output_type": "stream",
          "text": [
            "Input:  tensor([2.2438e-01, 0.0000e+00, 9.6900e+00, 0.0000e+00, 5.8500e-01, 6.0270e+00,\n",
            "        7.9700e+01, 2.4982e+00, 6.0000e+00, 3.9100e+02, 1.9200e+01, 3.9690e+02,\n",
            "        1.4330e+01])\n",
            "Target:  16.799999237060547\n",
            "Prediction: 19.04083251953125\n"
          ],
          "name": "stdout"
        }
      ]
    },
    {
      "cell_type": "markdown",
      "metadata": {
        "id": "D9omjNqibIon",
        "colab_type": "text"
      },
      "source": [
        "Save Model"
      ]
    },
    {
      "cell_type": "code",
      "metadata": {
        "id": "LWObtU6ubHeb",
        "colab_type": "code",
        "colab": {}
      },
      "source": [
        "torch.save(model.state_dict(), 'housing-linear.pth')"
      ],
      "execution_count": 0,
      "outputs": []
    }
  ]
}