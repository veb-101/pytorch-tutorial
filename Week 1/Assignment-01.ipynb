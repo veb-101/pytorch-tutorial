{
  "nbformat": 4,
  "nbformat_minor": 0,
  "metadata": {
    "kernelspec": {
      "display_name": "Python 3",
      "language": "python",
      "name": "python3"
    },
    "language_info": {
      "codemirror_mode": {
        "name": "ipython",
        "version": 3
      },
      "file_extension": ".py",
      "mimetype": "text/x-python",
      "name": "python",
      "nbconvert_exporter": "python",
      "pygments_lexer": "ipython3",
      "version": "3.7.6"
    },
    "colab": {
      "name": "01-tensor-operations.ipynb",
      "provenance": []
    }
  },
  "cells": [
    {
      "cell_type": "markdown",
      "metadata": {
        "id": "JtSdyv27lAyK",
        "colab_type": "text"
      },
      "source": [
        "# Pytorch basic essential Tensor operations\n",
        "\n",
        "### This notebook will be focused on methods mostly used in Linear Regression, Logistic Regression and PCA\n",
        "\n",
        "An short introduction about PyTorch and about the chosen functions. \n",
        "- tensor.new_zeros\n",
        "- tensor.argsort\n",
        "- tensor.dot\n",
        "- tensor.inverse\n",
        "- torch.eig"
      ]
    },
    {
      "cell_type": "code",
      "metadata": {
        "id": "tL0ryBkGlAyM",
        "colab_type": "code",
        "colab": {}
      },
      "source": [
        "# Import torch and other required modules\n",
        "import torch"
      ],
      "execution_count": 0,
      "outputs": []
    },
    {
      "cell_type": "markdown",
      "metadata": {
        "id": "SvaWDjZ4lAyZ",
        "colab_type": "text"
      },
      "source": [
        "## Function 1 - tensor.new_zeros\n",
        "This method returns a tensor of shape: `size` with values of `0`\n",
        "\n",
        "* Method definition:\n",
        "\n",
        "    `new_zeros(size, dtype=None, device=None, requires_grad=False)`"
      ]
    },
    {
      "cell_type": "code",
      "metadata": {
        "id": "J5u9DHEklAyb",
        "colab_type": "code",
        "colab": {
          "base_uri": "https://localhost:8080/",
          "height": 33
        },
        "outputId": "483aba6a-5364-424e-b3b6-9f1a0771ee4f"
      },
      "source": [
        "# Example 1 - 1-D array of zeros\n",
        "\n",
        "tensor = torch.tensor((), dtype=torch.float64)\n",
        "\n",
        "tensor.new_zeros(3,)"
      ],
      "execution_count": 2,
      "outputs": [
        {
          "output_type": "execute_result",
          "data": {
            "text/plain": [
              "tensor([0., 0., 0.], dtype=torch.float64)"
            ]
          },
          "metadata": {
            "tags": []
          },
          "execution_count": 2
        }
      ]
    },
    {
      "cell_type": "markdown",
      "metadata": {
        "id": "S3QT4V49lAyn",
        "colab_type": "text"
      },
      "source": [
        "methods takes in the integer passed to it and creates a tensor shape based on the number on values passed"
      ]
    },
    {
      "cell_type": "code",
      "metadata": {
        "id": "-Ubyt2ABlAyp",
        "colab_type": "code",
        "colab": {
          "base_uri": "https://localhost:8080/",
          "height": 50
        },
        "outputId": "ba375290-3ebb-4976-a243-a6a153ae54dd"
      },
      "source": [
        "# Example 2 - 2D array of zeros\n",
        "\n",
        "tensor.new_zeros((2, 3))"
      ],
      "execution_count": 3,
      "outputs": [
        {
          "output_type": "execute_result",
          "data": {
            "text/plain": [
              "tensor([[0., 0., 0.],\n",
              "        [0., 0., 0.]], dtype=torch.float64)"
            ]
          },
          "metadata": {
            "tags": []
          },
          "execution_count": 3
        }
      ]
    },
    {
      "cell_type": "markdown",
      "metadata": {
        "id": "AURjQlAHlAyy",
        "colab_type": "text"
      },
      "source": [
        "As we passed two values to the method created a 2D array with _3 rows and 4 columns_"
      ]
    },
    {
      "cell_type": "code",
      "metadata": {
        "id": "dRwU0tUblAy0",
        "colab_type": "code",
        "colab": {
          "base_uri": "https://localhost:8080/",
          "height": 178
        },
        "outputId": "a7f1672c-0767-4f05-866c-aa06c5f39b1f"
      },
      "source": [
        "# Example 3 - what not to do\n",
        "tensor.new_zeros(2.4, 4)"
      ],
      "execution_count": 4,
      "outputs": [
        {
          "output_type": "error",
          "ename": "TypeError",
          "evalue": "ignored",
          "traceback": [
            "\u001b[0;31m---------------------------------------------------------------------------\u001b[0m",
            "\u001b[0;31mTypeError\u001b[0m                                 Traceback (most recent call last)",
            "\u001b[0;32m<ipython-input-4-c526e58856d2>\u001b[0m in \u001b[0;36m<module>\u001b[0;34m()\u001b[0m\n\u001b[1;32m      1\u001b[0m \u001b[0;31m# Example 3 - what not to do\u001b[0m\u001b[0;34m\u001b[0m\u001b[0;34m\u001b[0m\u001b[0;34m\u001b[0m\u001b[0m\n\u001b[0;32m----> 2\u001b[0;31m \u001b[0mtensor\u001b[0m\u001b[0;34m.\u001b[0m\u001b[0mnew_zeros\u001b[0m\u001b[0;34m(\u001b[0m\u001b[0;36m2.4\u001b[0m\u001b[0;34m,\u001b[0m \u001b[0;36m4\u001b[0m\u001b[0;34m)\u001b[0m\u001b[0;34m\u001b[0m\u001b[0;34m\u001b[0m\u001b[0m\n\u001b[0m",
            "\u001b[0;31mTypeError\u001b[0m: new_zeros(): argument 'size' (position 1) must be tuple of ints, not float"
          ]
        }
      ]
    },
    {
      "cell_type": "markdown",
      "metadata": {
        "id": "h1E6EVNQlAy-",
        "colab_type": "text"
      },
      "source": [
        "The values passed to the method must be `integers`"
      ]
    },
    {
      "cell_type": "markdown",
      "metadata": {
        "id": "LXjZMdpjlAy_",
        "colab_type": "text"
      },
      "source": [
        "* When to use this function?\n",
        "> This function is used during the initialization phase for the `weight` and `bias` vectors."
      ]
    },
    {
      "cell_type": "markdown",
      "metadata": {
        "id": "IkDbzRZrlAzD",
        "colab_type": "text"
      },
      "source": [
        "## Function 2 - tensor.argsort()\n",
        "\n",
        "It returns the indices that will sort the tensor in ascending order by value\n",
        "\n",
        "* Method definition:\n",
        "\n",
        "    `tensor.argsort(dim=-1, descending=False)`"
      ]
    },
    {
      "cell_type": "code",
      "metadata": {
        "id": "5QOfy13UlAzE",
        "colab_type": "code",
        "colab": {
          "base_uri": "https://localhost:8080/",
          "height": 67
        },
        "outputId": "f9af889a-9982-4599-a69d-b7732301b10c"
      },
      "source": [
        "# Example 1 - working example\n",
        "\n",
        "# getting random values\n",
        "a = torch.randn(1, 5)\n",
        "print(a)\n",
        "\n",
        "print(\"Argsort output - >\", a.argsort())\n",
        "print(\"Using these indices we can sort the same or some other array\")"
      ],
      "execution_count": 5,
      "outputs": [
        {
          "output_type": "stream",
          "text": [
            "tensor([[ 0.4456, -1.4063, -1.0058,  0.1396,  0.6501]])\n",
            "Argsort output - > tensor([[1, 2, 3, 0, 4]])\n",
            "Using these indices we can sort the same or some other array\n"
          ],
          "name": "stdout"
        }
      ]
    },
    {
      "cell_type": "code",
      "metadata": {
        "id": "lFmEVKHylAzU",
        "colab_type": "code",
        "colab": {
          "base_uri": "https://localhost:8080/",
          "height": 134
        },
        "outputId": "af54e108-d357-45bc-a629-06f86534ad53"
      },
      "source": [
        "# Example 2 - sorting wrt to a specific dimension\n",
        "\n",
        "b = torch.randn(3, 3)\n",
        "print(b)\n",
        "\n",
        "print(\"Argsort output - >\\n\", b.argsort(dim=1))"
      ],
      "execution_count": 6,
      "outputs": [
        {
          "output_type": "stream",
          "text": [
            "tensor([[-1.5377, -2.8598,  0.8973],\n",
            "        [-1.0519,  0.1639,  0.0361],\n",
            "        [ 0.4737, -1.0002, -0.9223]])\n",
            "Argsort output - >\n",
            " tensor([[1, 0, 2],\n",
            "        [0, 2, 1],\n",
            "        [1, 2, 0]])\n"
          ],
          "name": "stdout"
        }
      ]
    },
    {
      "cell_type": "markdown",
      "metadata": {
        "id": "HLrFNhDAlAzb",
        "colab_type": "text"
      },
      "source": [
        "We can see that the output matrix consists of column-wise index value that would sort the array in ascending value"
      ]
    },
    {
      "cell_type": "code",
      "metadata": {
        "id": "D_NIcbjolAzc",
        "colab_type": "code",
        "colab": {
          "base_uri": "https://localhost:8080/",
          "height": 195
        },
        "outputId": "a1324461-538a-420a-87d0-49e83074e120"
      },
      "source": [
        "# Example 3 - What not to do\n",
        "\n",
        "b.argsort(dim=2)"
      ],
      "execution_count": 7,
      "outputs": [
        {
          "output_type": "error",
          "ename": "IndexError",
          "evalue": "ignored",
          "traceback": [
            "\u001b[0;31m---------------------------------------------------------------------------\u001b[0m",
            "\u001b[0;31mIndexError\u001b[0m                                Traceback (most recent call last)",
            "\u001b[0;32m<ipython-input-7-74cf7da1345f>\u001b[0m in \u001b[0;36m<module>\u001b[0;34m()\u001b[0m\n\u001b[1;32m      1\u001b[0m \u001b[0;31m# Example 3 - What not to do\u001b[0m\u001b[0;34m\u001b[0m\u001b[0;34m\u001b[0m\u001b[0;34m\u001b[0m\u001b[0m\n\u001b[1;32m      2\u001b[0m \u001b[0;34m\u001b[0m\u001b[0m\n\u001b[0;32m----> 3\u001b[0;31m \u001b[0mb\u001b[0m\u001b[0;34m.\u001b[0m\u001b[0margsort\u001b[0m\u001b[0;34m(\u001b[0m\u001b[0mdim\u001b[0m\u001b[0;34m=\u001b[0m\u001b[0;36m2\u001b[0m\u001b[0;34m)\u001b[0m\u001b[0;34m\u001b[0m\u001b[0;34m\u001b[0m\u001b[0m\n\u001b[0m",
            "\u001b[0;31mIndexError\u001b[0m: Dimension out of range (expected to be in range of [-2, 1], but got 2)"
          ]
        }
      ]
    },
    {
      "cell_type": "markdown",
      "metadata": {
        "id": "cP0c1ZoSlAzj",
        "colab_type": "text"
      },
      "source": [
        "The number of dimensions start from [0,..], taking that into consideration pass correct values to the attribute"
      ]
    },
    {
      "cell_type": "markdown",
      "metadata": {
        "id": "QtqPEXiIlAzk",
        "colab_type": "text"
      },
      "source": [
        "* When to use this function?\n",
        "> This function is mostly used during sorting of the eigenvalues and eigenvector matrices where the eigenvector matrix is to be sorted considering the eigenvalues vector"
      ]
    },
    {
      "cell_type": "markdown",
      "metadata": {
        "id": "AT8fkc8hlAzl",
        "colab_type": "text"
      },
      "source": [
        "## Function 3 - tensor.dot\n",
        "\n",
        "This method is used to calcluate the inner product of two tensors\n",
        "\n",
        "* Method definition\n",
        "\n",
        "    `tensor.dot(tensor)`"
      ]
    },
    {
      "cell_type": "code",
      "metadata": {
        "id": "2vJzZi8hlAzl",
        "colab_type": "code",
        "colab": {
          "base_uri": "https://localhost:8080/",
          "height": 84
        },
        "outputId": "3d88dd48-574a-4cb0-ffe7-3175f008c490"
      },
      "source": [
        "# Example 1 - working example\n",
        "\n",
        "# creating two tensors\n",
        "a = torch.tensor([12, 6])\n",
        "b = torch.tensor([0, 8])\n",
        "\n",
        "print(\"1D - Arrays\")\n",
        "print(a)\n",
        "print(b)\n",
        "\n",
        "print(\"Dot Product ->\", a.dot(b).item())"
      ],
      "execution_count": 8,
      "outputs": [
        {
          "output_type": "stream",
          "text": [
            "1D - Arrays\n",
            "tensor([12,  6])\n",
            "tensor([0, 8])\n",
            "Dot Product -> 48\n"
          ],
          "name": "stdout"
        }
      ]
    },
    {
      "cell_type": "code",
      "metadata": {
        "id": "de8aOJf9lAzt",
        "colab_type": "code",
        "colab": {
          "base_uri": "https://localhost:8080/",
          "height": 84
        },
        "outputId": "6a6a7dec-c35b-40bd-ada6-5a95c041b7c1"
      },
      "source": [
        "# Example 2 - negative dot products\n",
        "\n",
        "a = torch.tensor([-4, -6])\n",
        "b = torch.tensor([-9, 8])\n",
        "\n",
        "print(\"1D - Arrays\")\n",
        "print(a)\n",
        "print(b)\n",
        "\n",
        "print(\"Dot Product ->\", a.dot(b).item())"
      ],
      "execution_count": 9,
      "outputs": [
        {
          "output_type": "stream",
          "text": [
            "1D - Arrays\n",
            "tensor([-4, -6])\n",
            "tensor([-9,  8])\n",
            "Dot Product -> -12\n"
          ],
          "name": "stdout"
        }
      ]
    },
    {
      "cell_type": "code",
      "metadata": {
        "id": "zgoWcOi2lAzx",
        "colab_type": "code",
        "colab": {
          "base_uri": "https://localhost:8080/",
          "height": 278
        },
        "outputId": "1f5ea9d9-317a-4bd1-d9e7-da1a7a4a7039"
      },
      "source": [
        "# Example 3 - what not to do\n",
        "\n",
        "# creating two tensors\n",
        "a = torch.Tensor(2, 3)\n",
        "b = torch.Tensor(13,)\n",
        "\n",
        "print(a)\n",
        "print(b)\n",
        "print(a.dot(b))"
      ],
      "execution_count": 10,
      "outputs": [
        {
          "output_type": "stream",
          "text": [
            "tensor([[4.1241e-36, 0.0000e+00, 3.7835e-44],\n",
            "        [0.0000e+00,        nan, 0.0000e+00]])\n",
            "tensor([4.1241e-36, 0.0000e+00,        nan,        nan, 1.4013e-45, 0.0000e+00,\n",
            "        4.4721e+21, 3.0104e+29, 7.1853e+22, 7.3123e+28, 6.2706e+22, 4.7428e+30,\n",
            "        0.0000e+00])\n"
          ],
          "name": "stdout"
        },
        {
          "output_type": "error",
          "ename": "RuntimeError",
          "evalue": "ignored",
          "traceback": [
            "\u001b[0;31m---------------------------------------------------------------------------\u001b[0m",
            "\u001b[0;31mRuntimeError\u001b[0m                              Traceback (most recent call last)",
            "\u001b[0;32m<ipython-input-10-7f7b812fa958>\u001b[0m in \u001b[0;36m<module>\u001b[0;34m()\u001b[0m\n\u001b[1;32m      7\u001b[0m \u001b[0mprint\u001b[0m\u001b[0;34m(\u001b[0m\u001b[0ma\u001b[0m\u001b[0;34m)\u001b[0m\u001b[0;34m\u001b[0m\u001b[0;34m\u001b[0m\u001b[0m\n\u001b[1;32m      8\u001b[0m \u001b[0mprint\u001b[0m\u001b[0;34m(\u001b[0m\u001b[0mb\u001b[0m\u001b[0;34m)\u001b[0m\u001b[0;34m\u001b[0m\u001b[0;34m\u001b[0m\u001b[0m\n\u001b[0;32m----> 9\u001b[0;31m \u001b[0mprint\u001b[0m\u001b[0;34m(\u001b[0m\u001b[0ma\u001b[0m\u001b[0;34m.\u001b[0m\u001b[0mdot\u001b[0m\u001b[0;34m(\u001b[0m\u001b[0mb\u001b[0m\u001b[0;34m)\u001b[0m\u001b[0;34m)\u001b[0m\u001b[0;34m\u001b[0m\u001b[0;34m\u001b[0m\u001b[0m\n\u001b[0m",
            "\u001b[0;31mRuntimeError\u001b[0m: 1D tensors expected, got 2D, 1D tensors at /pytorch/aten/src/TH/generic/THTensorEvenMoreMath.cpp:431"
          ]
        }
      ]
    },
    {
      "cell_type": "markdown",
      "metadata": {
        "id": "nx_ivPIGlAz0",
        "colab_type": "text"
      },
      "source": [
        "Make sure the tensors created are 1D arrays."
      ]
    },
    {
      "cell_type": "markdown",
      "metadata": {
        "id": "rxYapPOjlAz0",
        "colab_type": "text"
      },
      "source": [
        "This method is commonly used to find out the inner product between two vectors."
      ]
    },
    {
      "cell_type": "markdown",
      "metadata": {
        "id": "R8IaLUC4lAz1",
        "colab_type": "text"
      },
      "source": [
        "## Function 4 - tensor.inverse\n",
        "\n",
        "This method calculates the inverse of matrices\n",
        "\n",
        "* Method definition\n",
        "\n",
        "    `tensor.inverse(out=None)`"
      ]
    },
    {
      "cell_type": "code",
      "metadata": {
        "id": "0p5MpG94lAz2",
        "colab_type": "code",
        "colab": {
          "base_uri": "https://localhost:8080/",
          "height": 217
        },
        "outputId": "fe44e816-ee0c-4eed-8668-e5134301ac67"
      },
      "source": [
        "# Example 1 - working\n",
        "\n",
        "a = torch.randn(3, 3)\n",
        "print(a)\n",
        "\n",
        "print(\"Inverse - >\\n\", a.inverse())\n",
        "\n",
        "print(\"Let's check: \")\n",
        "print(\"(a * a^-1 = I)\\n\", torch.round(a @ a.inverse()))"
      ],
      "execution_count": 11,
      "outputs": [
        {
          "output_type": "stream",
          "text": [
            "tensor([[-0.4842,  0.7683,  0.3045],\n",
            "        [-1.6003,  1.3088,  1.1788],\n",
            "        [ 1.6386,  0.9721, -1.5668]])\n",
            "Inverse - >\n",
            " tensor([[150.0984, -70.4224, -23.8180],\n",
            "        [ 27.0385, -12.1956,  -3.9218],\n",
            "        [173.7494, -81.2148, -27.9805]])\n",
            "Let's check: \n",
            "(a * a^-1 = I)\n",
            " tensor([[1., 0., -0.],\n",
            "        [-0., 1., -0.],\n",
            "        [0., 0., 1.]])\n"
          ],
          "name": "stdout"
        }
      ]
    },
    {
      "cell_type": "markdown",
      "metadata": {
        "id": "fEgmf05RlAz4",
        "colab_type": "text"
      },
      "source": [
        "we can clearly see that the method calc"
      ]
    },
    {
      "cell_type": "code",
      "metadata": {
        "id": "kAUXwy-YlAz5",
        "colab_type": "code",
        "colab": {
          "base_uri": "https://localhost:8080/",
          "height": 318
        },
        "outputId": "97dcd7a7-97e9-4420-f2da-252b60d1318a"
      },
      "source": [
        "# Example 2 - working\n",
        "\n",
        "a = torch.randn(5, 5)\n",
        "print(a)\n",
        "\n",
        "print(\"Inverse - >\\n\", a.inverse())\n",
        "\n",
        "print(\"Let's check: \")\n",
        "print(\"(a * a^-1 = I)\\n\", torch.round(a @ a.inverse()))"
      ],
      "execution_count": 12,
      "outputs": [
        {
          "output_type": "stream",
          "text": [
            "tensor([[-1.7362, -0.3326,  0.6628,  0.2947, -0.9987],\n",
            "        [-0.9477,  0.3815,  0.2853, -0.5985, -1.0210],\n",
            "        [ 0.0610, -0.3464, -0.8078, -1.6041, -0.4438],\n",
            "        [ 0.3758, -0.1981, -0.8562, -1.6748,  0.0571],\n",
            "        [-0.3132, -1.7599,  0.6055,  0.8133, -0.9457]])\n",
            "Inverse - >\n",
            " tensor([[-1.1016,  0.8178, -0.3463,  0.0624,  0.4466],\n",
            "        [-0.3402,  0.4169,  0.5741, -0.9619, -0.4183],\n",
            "        [-0.4215,  1.8539, -4.7641,  4.2816,  0.9374],\n",
            "        [ 0.0343, -0.8332,  2.2184, -2.5801, -0.3334],\n",
            "        [ 0.7574, -0.5762, -2.0960,  2.2918, -0.1134]])\n",
            "Let's check: \n",
            "(a * a^-1 = I)\n",
            " tensor([[1., 0., 0., 0., -0.],\n",
            "        [-0., 1., -0., 0., 0.],\n",
            "        [-0., 0., 1., 0., 0.],\n",
            "        [-0., -0., -0., 1., 0.],\n",
            "        [0., 0., 0., -0., 1.]])\n"
          ],
          "name": "stdout"
        }
      ]
    },
    {
      "cell_type": "markdown",
      "metadata": {
        "id": "wYqkQojllAz8",
        "colab_type": "text"
      },
      "source": [
        "Explanation about example"
      ]
    },
    {
      "cell_type": "code",
      "metadata": {
        "id": "RJstm-tHlAz-",
        "colab_type": "code",
        "colab": {
          "base_uri": "https://localhost:8080/",
          "height": 228
        },
        "outputId": "8f12cb13-8e89-4308-9a2a-5a51a7395e80"
      },
      "source": [
        "# Example 3 - what not to do\n",
        "\n",
        "a = torch.randn(2, 3)\n",
        "print(a)\n",
        "\n",
        "print(\"Inverse - >\\n\", torch.inverse(a))\n"
      ],
      "execution_count": 13,
      "outputs": [
        {
          "output_type": "stream",
          "text": [
            "tensor([[ 0.4430,  0.3327, -0.9195],\n",
            "        [-0.9209, -0.1211, -0.5152]])\n"
          ],
          "name": "stdout"
        },
        {
          "output_type": "error",
          "ename": "RuntimeError",
          "evalue": "ignored",
          "traceback": [
            "\u001b[0;31m---------------------------------------------------------------------------\u001b[0m",
            "\u001b[0;31mRuntimeError\u001b[0m                              Traceback (most recent call last)",
            "\u001b[0;32m<ipython-input-13-55f08de2884e>\u001b[0m in \u001b[0;36m<module>\u001b[0;34m()\u001b[0m\n\u001b[1;32m      4\u001b[0m \u001b[0mprint\u001b[0m\u001b[0;34m(\u001b[0m\u001b[0ma\u001b[0m\u001b[0;34m)\u001b[0m\u001b[0;34m\u001b[0m\u001b[0;34m\u001b[0m\u001b[0m\n\u001b[1;32m      5\u001b[0m \u001b[0;34m\u001b[0m\u001b[0m\n\u001b[0;32m----> 6\u001b[0;31m \u001b[0mprint\u001b[0m\u001b[0;34m(\u001b[0m\u001b[0;34m\"Inverse - >\\n\"\u001b[0m\u001b[0;34m,\u001b[0m \u001b[0mtorch\u001b[0m\u001b[0;34m.\u001b[0m\u001b[0minverse\u001b[0m\u001b[0;34m(\u001b[0m\u001b[0ma\u001b[0m\u001b[0;34m)\u001b[0m\u001b[0;34m)\u001b[0m\u001b[0;34m\u001b[0m\u001b[0;34m\u001b[0m\u001b[0m\n\u001b[0m",
            "\u001b[0;31mRuntimeError\u001b[0m: A must be batches of square matrices, but they are 3 by 2 matrices"
          ]
        }
      ]
    },
    {
      "cell_type": "markdown",
      "metadata": {
        "id": "IMrZXXorlA0C",
        "colab_type": "text"
      },
      "source": [
        "To calculate the inverse we need a square, non-singular matrix."
      ]
    },
    {
      "cell_type": "markdown",
      "metadata": {
        "id": "VFHWaqnklA0D",
        "colab_type": "text"
      },
      "source": [
        "To get around this constraint as most of the data `X` features will not be a sqaure matrix we can use `.pinverse()` which uses `SVD` to calculate the inverse"
      ]
    },
    {
      "cell_type": "markdown",
      "metadata": {
        "id": "Hy8vbOvGlA0D",
        "colab_type": "text"
      },
      "source": [
        "## Function 5 - tensor.eig\n",
        "\n",
        "It computes the eigenvalues and eigenvectors of a real square matrix.\n",
        "\n",
        "* Method definition:\n",
        "\n",
        "    `tensor.eig(eigenvectors=False, out=None)`"
      ]
    },
    {
      "cell_type": "code",
      "metadata": {
        "id": "O6e3FhfulA0D",
        "colab_type": "code",
        "colab": {
          "base_uri": "https://localhost:8080/",
          "height": 117
        },
        "outputId": "1bc668f6-c783-4837-faef-6e8ca01313b3"
      },
      "source": [
        "# Example 1 - working\n",
        "\n",
        "a = torch.randn(2, 2)\n",
        "\n",
        "values, vectors = a.eig(eigenvectors=True)\n",
        "print(\"A: \", a)\n",
        "print(\"Eigenvalues: \", values[:, 0])\n",
        "print(\"Eigenvectors: \\n\", vectors)"
      ],
      "execution_count": 14,
      "outputs": [
        {
          "output_type": "stream",
          "text": [
            "A:  tensor([[-0.7812,  0.0647],\n",
            "        [-0.1522, -0.7145]])\n",
            "Eigenvalues:  tensor([-0.7479, -0.7479])\n",
            "Eigenvectors: \n",
            " tensor([[ 0.1837, -0.5145],\n",
            "        [ 0.8376,  0.0000]])\n"
          ],
          "name": "stdout"
        }
      ]
    },
    {
      "cell_type": "markdown",
      "metadata": {
        "id": "AeP9dfPvlA0H",
        "colab_type": "text"
      },
      "source": [
        "This method returns a eigenvalues of shape (n×2), 1st column being the real eigenvalue and imaginary part being the 2nd column.\n",
        "\n",
        "Eigenvector is of shape (nxn)"
      ]
    },
    {
      "cell_type": "code",
      "metadata": {
        "id": "5_goTECQlA0I",
        "colab_type": "code",
        "colab": {
          "base_uri": "https://localhost:8080/",
          "height": 150
        },
        "outputId": "a1c8dbf5-ec35-420b-d104-c3dd94fcb1b6"
      },
      "source": [
        "# Example 2 - working\n",
        "\n",
        "b = torch.randn(3, 3)\n",
        "\n",
        "values, vectors = b.eig(eigenvectors=True)\n",
        "print(\"A: \", b)\n",
        "print(\"Eigenvalues: \", values[:, 0])\n",
        "print(\"Eigenvectors: \\n\", vectors)"
      ],
      "execution_count": 15,
      "outputs": [
        {
          "output_type": "stream",
          "text": [
            "A:  tensor([[-0.1045,  0.1150,  0.1820],\n",
            "        [ 0.7622,  0.4583,  0.4238],\n",
            "        [-0.6784, -1.4927, -0.5208]])\n",
            "Eigenvalues:  tensor([-0.3558,  0.0944,  0.0944])\n",
            "Eigenvectors: \n",
            " tensor([[-0.6342, -0.0066, -0.1671],\n",
            "        [ 0.2058, -0.3515, -0.3293],\n",
            "        [ 0.7453,  0.8602,  0.0000]])\n"
          ],
          "name": "stdout"
        }
      ]
    },
    {
      "cell_type": "markdown",
      "metadata": {
        "id": "fxegBWzalA0L",
        "colab_type": "text"
      },
      "source": [
        "Eigenvalues and Eigenvectors of 3x3 matrix"
      ]
    },
    {
      "cell_type": "code",
      "metadata": {
        "id": "E1J8gsBclA0L",
        "colab_type": "code",
        "colab": {
          "base_uri": "https://localhost:8080/",
          "height": 228
        },
        "outputId": "83204e6d-7bf6-4f31-aef4-b60a2ac20f8c"
      },
      "source": [
        "# Example 3 - what not to do\n",
        "\n",
        "c = torch.randn(3, 4)\n",
        "\n",
        "values, vectors = c.eig(eigenvectors=True)\n",
        "print(\"A: \", c)\n",
        "print(\"Eigenvalues: \", values[:, 0])\n",
        "print(\"Eigenvectors: \\n\", vectors)"
      ],
      "execution_count": 16,
      "outputs": [
        {
          "output_type": "error",
          "ename": "RuntimeError",
          "evalue": "ignored",
          "traceback": [
            "\u001b[0;31m---------------------------------------------------------------------------\u001b[0m",
            "\u001b[0;31mRuntimeError\u001b[0m                              Traceback (most recent call last)",
            "\u001b[0;32m<ipython-input-16-21a11e29020f>\u001b[0m in \u001b[0;36m<module>\u001b[0;34m()\u001b[0m\n\u001b[1;32m      3\u001b[0m \u001b[0mc\u001b[0m \u001b[0;34m=\u001b[0m \u001b[0mtorch\u001b[0m\u001b[0;34m.\u001b[0m\u001b[0mrandn\u001b[0m\u001b[0;34m(\u001b[0m\u001b[0;36m3\u001b[0m\u001b[0;34m,\u001b[0m \u001b[0;36m4\u001b[0m\u001b[0;34m)\u001b[0m\u001b[0;34m\u001b[0m\u001b[0;34m\u001b[0m\u001b[0m\n\u001b[1;32m      4\u001b[0m \u001b[0;34m\u001b[0m\u001b[0m\n\u001b[0;32m----> 5\u001b[0;31m \u001b[0mvalues\u001b[0m\u001b[0;34m,\u001b[0m \u001b[0mvectors\u001b[0m \u001b[0;34m=\u001b[0m \u001b[0mc\u001b[0m\u001b[0;34m.\u001b[0m\u001b[0meig\u001b[0m\u001b[0;34m(\u001b[0m\u001b[0meigenvectors\u001b[0m\u001b[0;34m=\u001b[0m\u001b[0;32mTrue\u001b[0m\u001b[0;34m)\u001b[0m\u001b[0;34m\u001b[0m\u001b[0;34m\u001b[0m\u001b[0m\n\u001b[0m\u001b[1;32m      6\u001b[0m \u001b[0mprint\u001b[0m\u001b[0;34m(\u001b[0m\u001b[0;34m\"A: \"\u001b[0m\u001b[0;34m,\u001b[0m \u001b[0mc\u001b[0m\u001b[0;34m)\u001b[0m\u001b[0;34m\u001b[0m\u001b[0;34m\u001b[0m\u001b[0m\n\u001b[1;32m      7\u001b[0m \u001b[0mprint\u001b[0m\u001b[0;34m(\u001b[0m\u001b[0;34m\"Eigenvalues: \"\u001b[0m\u001b[0;34m,\u001b[0m \u001b[0mvalues\u001b[0m\u001b[0;34m[\u001b[0m\u001b[0;34m:\u001b[0m\u001b[0;34m,\u001b[0m \u001b[0;36m0\u001b[0m\u001b[0;34m]\u001b[0m\u001b[0;34m)\u001b[0m\u001b[0;34m\u001b[0m\u001b[0;34m\u001b[0m\u001b[0m\n",
            "\u001b[0;31mRuntimeError\u001b[0m: invalid argument 1: A should be square at /pytorch/aten/src/TH/generic/THTensorLapack.cpp:194"
          ]
        }
      ]
    },
    {
      "cell_type": "markdown",
      "metadata": {
        "id": "Xd0L83TalA0N",
        "colab_type": "text"
      },
      "source": [
        "For computing the Eigen's of a given matrix, the matrix should be a square matrix."
      ]
    },
    {
      "cell_type": "markdown",
      "metadata": {
        "id": "VzsJtq7GlA0O",
        "colab_type": "text"
      },
      "source": [
        "* When to use this function?\n",
        "> This function is very useful in dimensionality reduction such as PCA to compute the direction of maximum variance which can be used as a principal axis of projection."
      ]
    },
    {
      "cell_type": "markdown",
      "metadata": {
        "id": "6xSh5ZB5lA0O",
        "colab_type": "text"
      },
      "source": [
        "## Conclusion\n",
        "\n",
        "In this notebook we saw different useful and commonly used functions in machine learning\n",
        "\n",
        "1) tensor.new_zeros - creating a new tensor of zeros.\n",
        "\n",
        "2) tensor.argsort - get the array of index that will sort the given array.\n",
        "\n",
        "3) tensor.dot - calculate the inner product between two vectors.\n",
        "\n",
        "4) tensor.inverse - calculating inverse of matrices for solving system of linear equations.\n",
        "\n",
        "\n",
        "5) torch.eig - calculating the magnitude and the unit vectors that isn't affected by the transformation applied to the whole space and which points to the direction of maximum of variance of the data."
      ]
    },
    {
      "cell_type": "markdown",
      "metadata": {
        "id": "FcGad8sWlA0P",
        "colab_type": "text"
      },
      "source": [
        "## Reference Links\n",
        "Provide links to your references and other interesting articles about tensors\n",
        "* Official documentation for `torch.Tensor`: https://pytorch.org/docs/stable/tensors.html"
      ]
    }
  ]
}