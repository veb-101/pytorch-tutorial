{
  "nbformat": 4,
  "nbformat_minor": 0,
  "metadata": {
    "colab": {
      "name": "housing-minimal",
      "provenance": [],
      "collapsed_sections": []
    },
    "kernelspec": {
      "name": "python3",
      "display_name": "Python 3"
    },
    "accelerator": "GPU"
  },
  "cells": [
    {
      "cell_type": "code",
      "metadata": {
        "id": "otuaISmlTPvY",
        "colab_type": "code",
        "colab": {}
      },
      "source": [
        "import torch\n",
        "import torchvision\n",
        "import torch.nn as nn\n",
        "import matplotlib.pyplot as plt\n",
        "import torch.nn.functional as F\n",
        "import torchvision.transforms as transforms\n",
        "from torchvision.datasets import MNIST\n",
        "from torch.utils.data import random_split\n",
        "from torch.utils.data import DataLoader"
      ],
      "execution_count": 0,
      "outputs": []
    },
    {
      "cell_type": "code",
      "metadata": {
        "id": "NaPLqj5LUF19",
        "colab_type": "code",
        "colab": {}
      },
      "source": [
        "batch_size = 128\n",
        "learning_rate = 0.001\n",
        "\n",
        "input_size = 28*28\n",
        "num_classes = 10"
      ],
      "execution_count": 0,
      "outputs": []
    },
    {
      "cell_type": "code",
      "metadata": {
        "id": "6ksw39PvwKiJ",
        "colab_type": "code",
        "colab": {
          "base_uri": "https://localhost:8080/",
          "height": 33
        },
        "outputId": "d998c204-9857-48be-f8db-c85c49f0fc0b"
      },
      "source": [
        "device = torch.device(\"cuda:0\")\n",
        "\n",
        "if torch.cuda.is_available():\n",
        "    device = torch.device(\"cuda:0\")  # you can continue going on here, like cuda:1 cuda:2....etc. \n",
        "    print(\"Running on the GPU\")\n",
        "else:\n",
        "    device = torch.device(\"cpu\")\n",
        "    print(\"Running on the CPU\")"
      ],
      "execution_count": 3,
      "outputs": [
        {
          "output_type": "stream",
          "text": [
            "Running on the GPU\n"
          ],
          "name": "stdout"
        }
      ]
    },
    {
      "cell_type": "markdown",
      "metadata": {
        "id": "cUPeU7hHUjMW",
        "colab_type": "text"
      },
      "source": [
        "Dataset & Data loaders"
      ]
    },
    {
      "cell_type": "code",
      "metadata": {
        "id": "F_CTK9pDUwj_",
        "colab_type": "code",
        "colab": {}
      },
      "source": [
        "dataset = MNIST(root='data/', train=True, \n",
        "                transform=transforms.ToTensor(), download=True)\n",
        "\n",
        "# Training validation & test dataset\n",
        "train_ds, val_ds = random_split(dataset, [50000, 10000])\n",
        "test_ds = MNIST(root='data/', train=False, \n",
        "                transform=transforms.ToTensor())\n",
        "\n",
        "# Dataloaders\n",
        "train_loader = DataLoader(train_ds, batch_size, shuffle=True)\n",
        "val_loader = DataLoader(val_ds, batch_size*2)\n",
        "test_loader = DataLoader(test_ds, batch_size*2)"
      ],
      "execution_count": 0,
      "outputs": []
    },
    {
      "cell_type": "code",
      "metadata": {
        "id": "Z6nB1pGBc55r",
        "colab_type": "code",
        "outputId": "b34f7ba1-b772-40cd-d437-7ceae7d3a5c3",
        "colab": {
          "base_uri": "https://localhost:8080/",
          "height": 265
        }
      },
      "source": [
        "image, label = train_ds[0]\n",
        "plt.imshow(image[0], cmap='gray')\n",
        "plt.axis(\"off\")\n",
        "print('Label:', label)"
      ],
      "execution_count": 5,
      "outputs": [
        {
          "output_type": "stream",
          "text": [
            "Label: 3\n"
          ],
          "name": "stdout"
        },
        {
          "output_type": "display_data",
          "data": {
            "image/png": "[encoded data removed]",
            "text/plain": [
              "<Figure size 432x288 with 1 Axes>"
            ]
          },
          "metadata": {
            "tags": [],
            "needs_background": "light"
          }
        }
      ]
    },
    {
      "cell_type": "markdown",
      "metadata": {
        "id": "5TNr3KHRV2nn",
        "colab_type": "text"
      },
      "source": [
        "Model"
      ]
    },
    {
      "cell_type": "code",
      "metadata": {
        "id": "RbpslROsd9DW",
        "colab_type": "code",
        "colab": {}
      },
      "source": [
        "def accuracy(outputs, labels):\n",
        "    _, preds = torch.max(outputs, dim=1)\n",
        "    return torch.tensor(torch.sum(preds == labels).item() / len(preds))"
      ],
      "execution_count": 0,
      "outputs": []
    },
    {
      "cell_type": "code",
      "metadata": {
        "id": "tC_v2QlIVsIK",
        "colab_type": "code",
        "outputId": "809c9a08-e1d1-4f86-96f1-bd458841910e",
        "colab": {
          "base_uri": "https://localhost:8080/",
          "height": 67
        }
      },
      "source": [
        "class MnistModel(nn.Module):\n",
        "\n",
        "    def __init__(self):\n",
        "        super().__init__()\n",
        "        self.linear = nn.Linear(input_size, num_classes)\n",
        "    \n",
        "    def forward(self, X):\n",
        "        X = X.reshape(-1, 784)\n",
        "        outputs = self.linear(X)\n",
        "        return outputs\n",
        "\n",
        "    def train_step(self, batch):\n",
        "        inputs, labels = batch\n",
        "        inputs, labels = inputs.to(device), labels.to(device)\n",
        "        outputs = self(inputs)\n",
        "        loss = F.cross_entropy(outputs, labels)\n",
        "        acc = accuracy(outputs, labels)\n",
        "        return {'loss': loss, 'acc': acc}, loss\n",
        "    \n",
        "    def valid_step(self, batch):\n",
        "        inputs, labels = batch \n",
        "        inputs, labels = inputs.to(device), labels.to(device)\n",
        "        out = self(inputs)                 \n",
        "        loss = F.cross_entropy(out, labels)\n",
        "        acc = accuracy(out, labels)    \n",
        "        return {'val_loss': loss.detach(), 'val_acc': acc.detach()}\n",
        "        \n",
        "\n",
        "    def train_epoch_end(self, outputs):\n",
        "        batch_losses = [x['loss'] for x in outputs]\n",
        "        epoch_loss = torch.stack(batch_losses).mean()   \n",
        "        batch_accs = [x['acc'] for x in outputs]\n",
        "        epoch_acc = torch.stack(batch_accs).mean()      \n",
        "        return {'loss': epoch_loss.item(), 'acc': epoch_acc.item()}\n",
        "\n",
        "    def valid_epoch_end(self, outputs):\n",
        "        batch_losses = [x['val_loss'] for x in outputs]\n",
        "        epoch_loss = torch.stack(batch_losses).mean()   \n",
        "        batch_accs = [x['val_acc'] for x in outputs]\n",
        "        epoch_acc = torch.stack(batch_accs).mean()      \n",
        "        return {'val_loss': epoch_loss.item(), 'val_acc': epoch_acc.item()}\n",
        "\n",
        "    def epoch_end(self, epoch, result, num_epochs):\n",
        "        if (epoch+1) % 10 == 0 or epoch == num_epochs-1:\n",
        "            print(f\"Epoch [{epoch+1}] -> loss: {result['loss']:.4f}, acc: {result['acc']:.4f}, val_loss: {result['val_loss']:.4f}, val_acc: {result['val_acc']:.4f}\")\n",
        "    \n",
        "model = MnistModel()\n",
        "model.to(device)"
      ],
      "execution_count": 7,
      "outputs": [
        {
          "output_type": "execute_result",
          "data": {
            "text/plain": [
              "MnistModel(\n",
              "  (linear): Linear(in_features=784, out_features=10, bias=True)\n",
              ")"
            ]
          },
          "metadata": {
            "tags": []
          },
          "execution_count": 7
        }
      ]
    },
    {
      "cell_type": "markdown",
      "metadata": {
        "id": "n0FelBacW2hh",
        "colab_type": "text"
      },
      "source": [
        "Training"
      ]
    },
    {
      "cell_type": "code",
      "metadata": {
        "id": "HzBFmTEyWzqY",
        "colab_type": "code",
        "colab": {}
      },
      "source": [
        "def evaluate(model, val_loader):\n",
        "    outputs = [model.valid_step(batch) for batch in val_loader]\n",
        "    return model.valid_epoch_end(outputs)\n",
        "\n",
        "def fit(epochs, lr, model, train_loader, val_loader, opt_func=torch.optim.SGD):\n",
        "    history = []\n",
        "    optimizer = opt_func(model.parameters(), lr)\n",
        "    train_history = []\n",
        "\n",
        "    for epoch in range(epochs):\n",
        "        # Training Phase \n",
        "        \n",
        "        for batch in train_loader:\n",
        "            info, loss = model.train_step(batch)\n",
        "            \n",
        "            # contains batch loss and acc for training phase\n",
        "            train_history.append(info)\n",
        "            \n",
        "            loss.backward()\n",
        "            optimizer.step()\n",
        "            optimizer.zero_grad()\n",
        "\n",
        "        train_result = model.train_epoch_end(train_history)\n",
        "        val_result = evaluate(model, val_loader)\n",
        "        result = {**train_result, **val_result}\n",
        "\n",
        "        model.epoch_end(epoch, result, epochs)\n",
        "        history.append(result)\n",
        "    return history"
      ],
      "execution_count": 0,
      "outputs": []
    },
    {
      "cell_type": "code",
      "metadata": {
        "id": "8GMw8DGfX-RS",
        "colab_type": "code",
        "outputId": "cf08d170-781d-44d7-dd69-3a755eb10e50",
        "colab": {
          "base_uri": "https://localhost:8080/",
          "height": 33
        }
      },
      "source": [
        "result = evaluate(model, val_loader)\n",
        "result"
      ],
      "execution_count": 9,
      "outputs": [
        {
          "output_type": "execute_result",
          "data": {
            "text/plain": [
              "{'val_acc': 0.07343749701976776, 'val_loss': 2.3184847831726074}"
            ]
          },
          "metadata": {
            "tags": []
          },
          "execution_count": 9
        }
      ]
    },
    {
      "cell_type": "code",
      "metadata": {
        "id": "AJ7NRh4sX-oB",
        "colab_type": "code",
        "outputId": "074f1a60-eaa2-48d1-9ad1-c740b4af8d5e",
        "colab": {
          "base_uri": "https://localhost:8080/",
          "height": 184
        }
      },
      "source": [
        "history = fit(100, 0.001, model, train_loader, val_loader)"
      ],
      "execution_count": 10,
      "outputs": [
        {
          "output_type": "stream",
          "text": [
            "Epoch [10] -> loss: 1.3285, acc: 0.7492, val_loss: 0.8862, val_acc: 0.8351\n",
            "Epoch [20] -> loss: 1.0442, acc: 0.7968, val_loss: 0.6675, val_acc: 0.8541\n",
            "Epoch [30] -> loss: 0.9024, acc: 0.8178, val_loss: 0.5794, val_acc: 0.8634\n",
            "Epoch [40] -> loss: 0.8145, acc: 0.8305, val_loss: 0.5302, val_acc: 0.8696\n",
            "Epoch [50] -> loss: 0.7535, acc: 0.8393, val_loss: 0.4982, val_acc: 0.8745\n",
            "Epoch [60] -> loss: 0.7081, acc: 0.8460, val_loss: 0.4753, val_acc: 0.8779\n",
            "Epoch [70] -> loss: 0.6726, acc: 0.8512, val_loss: 0.4581, val_acc: 0.8803\n",
            "Epoch [80] -> loss: 0.6440, acc: 0.8554, val_loss: 0.4445, val_acc: 0.8847\n",
            "Epoch [90] -> loss: 0.6203, acc: 0.8590, val_loss: 0.4334, val_acc: 0.8862\n",
            "Epoch [100] -> loss: 0.6002, acc: 0.8620, val_loss: 0.4241, val_acc: 0.8874\n"
          ],
          "name": "stdout"
        }
      ]
    },
    {
      "cell_type": "code",
      "metadata": {
        "id": "mty69IxjZvmt",
        "colab_type": "code",
        "colab": {
          "base_uri": "https://localhost:8080/",
          "height": 312
        },
        "outputId": "f9b5f996-48cd-4c64-9790-65c30fa84a22"
      },
      "source": [
        "train_losses = [r['loss'] for r in history]\n",
        "val_losses = [r['val_loss'] for r in history]\n",
        "train_acc = [r['acc'] for r in history]\n",
        "val_acc = [r['val_acc'] for r in history]\n",
        "\n",
        "plt.figure(figsize=(12, 4))\n",
        "plt.subplot(1, 2, 1)\n",
        "plt.plot(train_losses, c='k', label=\"train_loss\")\n",
        "plt.plot(val_losses, c='r', label=\"val_loss\")\n",
        "plt.legend()\n",
        "plt.xlabel('epoch')\n",
        "plt.ylabel('loss')\n",
        "plt.title('Loss vs. epochs')\n",
        "\n",
        "plt.subplot(1, 2, 2)\n",
        "plt.plot(train_acc, c='k', label=\"train_acc\")\n",
        "plt.plot(val_acc, c='r', label=\"val_acc\")\n",
        "plt.legend()\n",
        "plt.xlabel('epoch')\n",
        "plt.ylabel('accuracy')\n",
        "plt.title('Accuracy vs. epochs')"
      ],
      "execution_count": 11,
      "outputs": [
        {
          "output_type": "execute_result",
          "data": {
            "text/plain": [
              "Text(0.5, 1.0, 'Accuracy vs. epochs')"
            ]
          },
          "metadata": {
            "tags": []
          },
          "execution_count": 11
        },
        {
          "output_type": "display_data",
          "data": {
            "image/png": "[encoded data removed]",
            "text/plain": [
              "<Figure size 864x288 with 2 Axes>"
            ]
          },
          "metadata": {
            "tags": [],
            "needs_background": "light"
          }
        }
      ]
    },
    {
      "cell_type": "code",
      "metadata": {
        "id": "hfpuWDNWmkvq",
        "colab_type": "code",
        "colab": {
          "base_uri": "https://localhost:8080/",
          "height": 33
        },
        "outputId": "e195ecff-8fd1-4f35-dd66-c53708ae747e"
      },
      "source": [
        "# Evaluate on test dataset\n",
        "result = evaluate(model, test_loader)\n",
        "result"
      ],
      "execution_count": 12,
      "outputs": [
        {
          "output_type": "execute_result",
          "data": {
            "text/plain": [
              "{'val_acc': 0.895703136920929, 'val_loss': 0.3904913365840912}"
            ]
          },
          "metadata": {
            "tags": []
          },
          "execution_count": 12
        }
      ]
    },
    {
      "cell_type": "markdown",
      "metadata": {
        "id": "ZxspQiOLa1xu",
        "colab_type": "text"
      },
      "source": [
        "Prediction"
      ]
    },
    {
      "cell_type": "code",
      "metadata": {
        "id": "qORs7Aftazwm",
        "colab_type": "code",
        "colab": {}
      },
      "source": [
        "def predict_image(img, model):\n",
        "    xb = img.unsqueeze(0)\n",
        "    yb = model(xb)\n",
        "    _, preds  = torch.max(yb, dim=1)\n",
        "    return preds[0].item()"
      ],
      "execution_count": 0,
      "outputs": []
    },
    {
      "cell_type": "code",
      "metadata": {
        "id": "HCn6Rd0xbFhD",
        "colab_type": "code",
        "colab": {
          "base_uri": "https://localhost:8080/",
          "height": 265
        },
        "outputId": "6132a65c-e3d9-4eb6-c424-fbbaf22b7d21"
      },
      "source": [
        "img, label = test_ds[919]\n",
        "plt.imshow(img[0], cmap='gray')\n",
        "plt.axis(\"off\")\n",
        "print('Label:', label, ', Predicted:', predict_image(img.to(device), model))"
      ],
      "execution_count": 14,
      "outputs": [
        {
          "output_type": "stream",
          "text": [
            "Label: 2 , Predicted: 2\n"
          ],
          "name": "stdout"
        },
        {
          "output_type": "display_data",
          "data": {
            "image/png": "[encoded data removed]",
            "text/plain": [
              "<Figure size 432x288 with 1 Axes>"
            ]
          },
          "metadata": {
            "tags": [],
            "needs_background": "light"
          }
        }
      ]
    },
    {
      "cell_type": "markdown",
      "metadata": {
        "id": "D9omjNqibIon",
        "colab_type": "text"
      },
      "source": [
        "Save Model"
      ]
    },
    {
      "cell_type": "code",
      "metadata": {
        "id": "LWObtU6ubHeb",
        "colab_type": "code",
        "colab": {}
      },
      "source": [
        "torch.save(model.state_dict(), 'mnist-logistic.pth')"
      ],
      "execution_count": 0,
      "outputs": []
    }
  ]
}